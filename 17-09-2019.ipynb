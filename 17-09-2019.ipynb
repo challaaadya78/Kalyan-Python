{
 "cells": [
  {
   "cell_type": "markdown",
   "metadata": {},
   "source": [
    "### HIGHEST MARKS FROM LIST"
   ]
  },
  {
   "cell_type": "code",
   "execution_count": 18,
   "metadata": {},
   "outputs": [
    {
     "data": {
      "text/plain": [
       "98"
      ]
     },
     "execution_count": 18,
     "metadata": {},
     "output_type": "execute_result"
    }
   ],
   "source": [
    "s={43,56,78,98,36,67}\n",
    "l=list(s)\n",
    "l.sort()\n",
    "m[-1]"
   ]
  },
  {
   "cell_type": "code",
   "execution_count": 19,
   "metadata": {},
   "outputs": [
    {
     "data": {
      "text/plain": [
       "98"
      ]
     },
     "execution_count": 19,
     "metadata": {},
     "output_type": "execute_result"
    }
   ],
   "source": [
    "s={43,56,78,98,36,67}\n",
    "l=sorted(s)\n",
    "l[-1]"
   ]
  },
  {
   "cell_type": "markdown",
   "metadata": {},
   "source": [
    "## LIFT APPLICATION"
   ]
  },
  {
   "cell_type": "code",
   "execution_count": null,
   "metadata": {},
   "outputs": [
    {
     "name": "stdout",
     "output_type": "stream",
     "text": [
      "How many floors7\n",
      "Which Floor4\n",
      "A is move\n",
      "B is move\n"
     ]
    }
   ],
   "source": [
    "a=int(input(\"How many floors\"))\n",
    "j=7\n",
    "for i in range(a):\n",
    "    b=int(input(\"Which Floor\"))\n",
    "    if (b==4):\n",
    "        print(\"A is move\")\n",
    "    if (b>j//2):\n",
    "        print(\"B is move\")\n",
    "    else:\n",
    "        print(\"A is move\")\n",
    "\n",
    "\n",
    "\n",
    "\n",
    "        "
   ]
  },
  {
   "cell_type": "code",
   "execution_count": null,
   "metadata": {},
   "outputs": [],
   "source": [
    "t=int(input())\n",
    "a=0\n",
    "b=7\n",
    "for i in range(t):\n",
    "    n=int(input())\n",
    "    d1=abs(a-n)\n",
    "    d2=abs(b-n)\n",
    "    if      "
   ]
  },
  {
   "cell_type": "markdown",
   "metadata": {},
   "source": [
    "### STRING REVERSE\n",
    "\n",
    "\n",
    "\n",
    "\n"
   ]
  },
  {
   "cell_type": "code",
   "execution_count": 30,
   "metadata": {},
   "outputs": [
    {
     "name": "stdout",
     "output_type": "stream",
     "text": [
      "Enter the no.of test cases   1\n",
      "Enter the string     racecar carrace\n",
      "Yes\n"
     ]
    }
   ],
   "source": [
    "t=int(input(\"Enter the no.of test cases   \"))\n",
    "for i in range(t):\n",
    "    s=input(\"Enter the string     \")\n",
    "    l=s.split()\n",
    "    s1=sorted(l[0])\n",
    "    s2=sorted(l[1])\n",
    "    if s1==s2:\n",
    "        print(\"Yes\")\n",
    "    else:\n",
    "        print(\"No\")\n",
    "            "
   ]
  },
  {
   "cell_type": "code",
   "execution_count": null,
   "metadata": {},
   "outputs": [],
   "source": []
  }
 ],
 "metadata": {
  "kernelspec": {
   "display_name": "Python 3",
   "language": "python",
   "name": "python3"
  },
  "language_info": {
   "codemirror_mode": {
    "name": "ipython",
    "version": 3
   },
   "file_extension": ".py",
   "mimetype": "text/x-python",
   "name": "python",
   "nbconvert_exporter": "python",
   "pygments_lexer": "ipython3",
   "version": "3.7.3"
  }
 },
 "nbformat": 4,
 "nbformat_minor": 2
}
