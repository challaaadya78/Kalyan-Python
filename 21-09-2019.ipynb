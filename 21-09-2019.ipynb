{
 "cells": [
  {
   "cell_type": "markdown",
   "metadata": {},
   "source": []
  },
  {
   "cell_type": "code",
   "execution_count": 26,
   "metadata": {},
   "outputs": [
    {
     "name": "stdout",
     "output_type": "stream",
     "text": [
      "Parimala is\n",
      "doing\n",
      "Python training\n",
      "in APSSDC\n",
      "\n"
     ]
    }
   ],
   "source": [
    "filepath=\"./KALYAN78/sample.txt\"\n",
    "f=open(filepath,'r')\n",
    "lines=f.read()\n",
    "print(lines)\n",
    "line=f.readline()\n",
    "print(line)"
   ]
  },
  {
   "cell_type": "markdown",
   "metadata": {},
   "source": [
    "## SH SM & EH EM  DIFFERENT\n"
   ]
  },
  {
   "cell_type": "code",
   "execution_count": 25,
   "metadata": {},
   "outputs": [
    {
     "name": "stdout",
     "output_type": "stream",
     "text": [
      "enter test cases1\n",
      "12 2 24 2\n",
      "12 0\n"
     ]
    }
   ],
   "source": [
    "t=int(input(\"enter test cases\"))\n",
    "for i in range(t):\n",
    "    n=input().split()\n",
    "    sh=int(n[0])\n",
    "    sm=int(n[1])\n",
    "    eh=int(n[2])\n",
    "    em=int(n[3])\n",
    "    if ((eh and sh<=24)and(em and sm<=60)):\n",
    "        if sh==eh:\n",
    "            a=eh-sh\n",
    "            b=abs(em-sm)\n",
    "            print(a,b)\n",
    "        elif sm==em:\n",
    "            a=eh-sh\n",
    "            b=abs(em-sm)\n",
    "            print(a,b)\n",
    "        else:\n",
    "            a=(eh-1)-sh\n",
    "            b=abs(em-sm)\n",
    "            print(a,b)\n",
    "    else:\n",
    "        print(\"Invalid input\")      "
   ]
  },
  {
   "cell_type": "code",
   "execution_count": null,
   "metadata": {},
   "outputs": [],
   "source": []
  },
  {
   "cell_type": "code",
   "execution_count": 12,
   "metadata": {},
   "outputs": [],
   "source": [
    "filepath=\"./KALYAN78/sample.txt\"\n",
    "with open(filepath,'w') as f:\n",
    "    f.write(\"Parimala is\\ndoing\\nPython training\\nin APSSDC\")\n",
    "filepath=\"./KALYAN78/sample1.txt\"\n",
    "with open(filepath,'w') as f:\n",
    "    f.write(\"Kalyan is very good boy\\nKalyan is very innocent\\nKalyan intelligent also\")\n"
   ]
  },
  {
   "cell_type": "code",
   "execution_count": null,
   "metadata": {},
   "outputs": [],
   "source": []
  },
  {
   "cell_type": "code",
   "execution_count": null,
   "metadata": {},
   "outputs": [],
   "source": []
  }
 ],
 "metadata": {
  "kernelspec": {
   "display_name": "Python 3",
   "language": "python",
   "name": "python3"
  },
  "language_info": {
   "codemirror_mode": {
    "name": "ipython",
    "version": 3
   },
   "file_extension": ".py",
   "mimetype": "text/x-python",
   "name": "python",
   "nbconvert_exporter": "python",
   "pygments_lexer": "ipython3",
   "version": "3.7.3"
  }
 },
 "nbformat": 4,
 "nbformat_minor": 2
}
