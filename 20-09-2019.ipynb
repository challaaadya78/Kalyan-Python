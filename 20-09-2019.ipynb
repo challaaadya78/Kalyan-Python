{
 "cells": [
  {
   "cell_type": "markdown",
   "metadata": {},
   "source": [
    "### CHARACTERS , WORDS COUNT"
   ]
  },
  {
   "cell_type": "code",
   "execution_count": 2,
   "metadata": {},
   "outputs": [
    {
     "name": "stdout",
     "output_type": "stream",
     "text": [
      "Electricity is the set of physical phenomena associated with the presence and motion of matter that has a property of electric charge. In early days\n",
      "No of characters --> 148\n",
      "No.of words --> 25\n"
     ]
    }
   ],
   "source": [
    "n=input()\n",
    "c=0\n",
    "for i in n:\n",
    "    c=c+1\n",
    "print(\"No of characters -->\",c)\n",
    "m=n.split()\n",
    "d=0\n",
    "for j in m:\n",
    "    d=d+1\n",
    "print(\"No.of words -->\",d)    "
   ]
  },
  {
   "cell_type": "code",
   "execution_count": null,
   "metadata": {},
   "outputs": [],
   "source": []
  },
  {
   "cell_type": "code",
   "execution_count": null,
   "metadata": {},
   "outputs": [],
   "source": []
  }
 ],
 "metadata": {
  "kernelspec": {
   "display_name": "Python 3",
   "language": "python",
   "name": "python3"
  },
  "language_info": {
   "codemirror_mode": {
    "name": "ipython",
    "version": 3
   },
   "file_extension": ".py",
   "mimetype": "text/x-python",
   "name": "python",
   "nbconvert_exporter": "python",
   "pygments_lexer": "ipython3",
   "version": "3.7.3"
  }
 },
 "nbformat": 4,
 "nbformat_minor": 2
}
