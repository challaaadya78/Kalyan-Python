{
 "cells": [
  {
   "cell_type": "markdown",
   "metadata": {},
   "source": [
    "## SEVEN SEGMENT DISPLAY"
   ]
  },
  {
   "cell_type": "code",
   "execution_count": 47,
   "metadata": {},
   "outputs": [
    {
     "name": "stdout",
     "output_type": "stream",
     "text": [
      "Enter the number1234567890\n",
      "50\n"
     ]
    }
   ],
   "source": [
    "d={0:6,1:2,2:5,3:5,4:4,5:6,6:6,7:3,8:7,9:6}\n",
    "n=input(\"Enter the number\")\n",
    "c=0\n",
    "for i in n:\n",
    "     c=c+d[int(i)]\n",
    "print(c)\n",
    "    "
   ]
  },
  {
   "cell_type": "markdown",
   "metadata": {},
   "source": [
    "## MAZE PUZZLE"
   ]
  },
  {
   "cell_type": "code",
   "execution_count": 44,
   "metadata": {},
   "outputs": [
    {
     "name": "stdout",
     "output_type": "stream",
     "text": [
      "Enter the directions  LLLLLLLLLLLLLLLLRRRRRRRRRRRRRRRRRRDDDDDDDDDDDDDDDDDDDDDDDUUUUUUUUUUUUUUUUUUUU\n",
      "2 -3\n"
     ]
    }
   ],
   "source": [
    "n=input(\"Enter the directions  \")\n",
    "x=0\n",
    "y=0\n",
    "for i in n:\n",
    "    if i=='L':\n",
    "        x=x-1\n",
    "    elif i=='R':\n",
    "        x=x+1\n",
    "    elif i=='U':\n",
    "        y=y+1\n",
    "    elif i=='D':\n",
    "        y=y-1\n",
    "print(x,y)"
   ]
  },
  {
   "cell_type": "markdown",
   "metadata": {},
   "source": [
    "## FILES CONCEPT"
   ]
  },
  {
   "cell_type": "code",
   "execution_count": 51,
   "metadata": {},
   "outputs": [],
   "source": [
    "filepath=\"./KALYAN78/sample.txt\"\n",
    "with open(filepath,'w') as f:\n",
    "    f.write(\"Hello Chakori\")\n"
   ]
  },
  {
   "cell_type": "code",
   "execution_count": null,
   "metadata": {},
   "outputs": [],
   "source": []
  }
 ],
 "metadata": {
  "kernelspec": {
   "display_name": "Python 3",
   "language": "python",
   "name": "python3"
  },
  "language_info": {
   "codemirror_mode": {
    "name": "ipython",
    "version": 3
   },
   "file_extension": ".py",
   "mimetype": "text/x-python",
   "name": "python",
   "nbconvert_exporter": "python",
   "pygments_lexer": "ipython3",
   "version": "3.7.3"
  }
 },
 "nbformat": 4,
 "nbformat_minor": 2
}
