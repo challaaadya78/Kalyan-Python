{
 "cells": [
  {
   "cell_type": "markdown",
   "metadata": {},
   "source": [
    "### FIND BIGGEST NUMBER"
   ]
  },
  {
   "cell_type": "code",
   "execution_count": 31,
   "metadata": {
    "scrolled": true
   },
   "outputs": [
    {
     "name": "stdout",
     "output_type": "stream",
     "text": [
      "enter numbers5\n",
      "454\n",
      "6745\n",
      "45\n",
      "786\n",
      "24354\n",
      "[454, 6745, 45, 786, 24354]\n",
      "first biggest number 24354\n",
      "second biggest number 6745\n",
      "third biggest number 786\n"
     ]
    }
   ],
   "source": [
    "a=int(input(\"enter numbers\"))\n",
    "b=[]\n",
    "for i in range(a):\n",
    "    c=int(input())\n",
    "    b.append(c)\n",
    "print(b)\n",
    "b.sort()\n",
    "print(\"first biggest number\",b[-1])\n",
    "print(\"second biggest number\",b[-2])\n",
    "print(\"third biggest number\",b[-3])"
   ]
  },
  {
   "cell_type": "markdown",
   "metadata": {},
   "source": [
    "### LIST FROM USER"
   ]
  },
  {
   "cell_type": "code",
   "execution_count": 25,
   "metadata": {},
   "outputs": [
    {
     "name": "stdout",
     "output_type": "stream",
     "text": [
      "enter numbers6\n",
      "6\n",
      "6\n",
      "6\n",
      "6\n",
      "6\n",
      "6\n",
      "[6, 6, 6, 6, 6, 6]\n"
     ]
    }
   ],
   "source": [
    "a=int(input(\"enter numbers\"))\n",
    "b=[]\n",
    "for i in range(a):\n",
    "    c=int(input())\n",
    "    b.append(c)\n",
    "print(b)\n"
   ]
  },
  {
   "cell_type": "markdown",
   "metadata": {},
   "source": [
    "### FREQUENCY NUMBER"
   ]
  },
  {
   "cell_type": "code",
   "execution_count": 28,
   "metadata": {},
   "outputs": [
    {
     "name": "stdout",
     "output_type": "stream",
     "text": [
      "enter numbers6\n",
      "5\n",
      "5\n",
      "4\n",
      "4\n",
      "56\n",
      "6\n",
      "[5, 5, 4, 4, 56, 6]\n",
      "4\n"
     ]
    }
   ],
   "source": [
    "a=int(input(\"enter numbers\"))\n",
    "b=[]\n",
    "for i in range(a):\n",
    "    c=int(input())\n",
    "    b.append(c)\n",
    "print(b)\n",
    "def max_frequency(b):\n",
    "    return max(set(b),key=b.count)\n",
    "print(max_frequency(b))\n"
   ]
  },
  {
   "cell_type": "code",
   "execution_count": 59,
   "metadata": {},
   "outputs": [
    {
     "name": "stdout",
     "output_type": "stream",
     "text": [
      "1 --> 4\n",
      "4 --> 4\n",
      "6 --> 4\n",
      "7 --> 4\n"
     ]
    }
   ],
   "source": [
    "l=[1,1,1,1,4,4,4,4,6,6,6,6,7,7,7,7]\n",
    "p={}\n",
    "for i in l:\n",
    "    p[i]=l.count(i)\n",
    "m=max(p.values())\n",
    "for k in p:\n",
    "    if p[k]==m:\n",
    "        print(k,\"-->\",m)\n",
    "        \n",
    "    "
   ]
  },
  {
   "cell_type": "markdown",
   "metadata": {},
   "source": [
    "### FREQUENCY OF CHARACTER"
   ]
  },
  {
   "cell_type": "code",
   "execution_count": null,
   "metadata": {},
   "outputs": [],
   "source": [
    "a=input()\n",
    "b=a.split()\n",
    "P={}\n",
    "for i in b:\n",
    "    p[i]=b.count(i)\n",
    "m=max(p.values())\n",
    "for k in p:\n",
    "    if p[k]==m:\n",
    "        print(k,\"-->\",m)\n"
   ]
  },
  {
   "cell_type": "code",
   "execution_count": null,
   "metadata": {},
   "outputs": [],
   "source": []
  }
 ],
 "metadata": {
  "kernelspec": {
   "display_name": "Python 3",
   "language": "python",
   "name": "python3"
  }
 },
 "nbformat": 4,
 "nbformat_minor": 2
}
