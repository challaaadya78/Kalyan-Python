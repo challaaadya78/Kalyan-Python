{
 "cells": [
  {
   "cell_type": "markdown",
   "metadata": {},
   "source": [
    "### FIND BIGGEST NUMBER"
   ]
  },
  {
   "cell_type": "code",
   "execution_count": 1,
   "metadata": {
    "scrolled": true
   },
   "outputs": [
    {
     "name": "stdout",
     "output_type": "stream",
     "text": [
      "enter numbers3\n",
      "33\n",
      "333\n",
      "3333\n",
      "[33, 333, 3333]\n",
      "first biggest number 3333\n",
      "second biggest number 333\n",
      "third biggest number 33\n"
     ]
    }
   ],
   "source": [
    "a=int(input(\"enter numbers\"))\n",
    "b=[]\n",
    "for i in range(a):\n",
    "    c=int(input())\n",
    "    b.append(c)\n",
    "print(b)\n",
    "b.sort()\n",
    "print(\"first biggest number\",b[-1])\n",
    "print(\"second biggest number\",b[-2])\n",
    "print(\"third biggest number\",b[-3])"
   ]
  },
  {
   "cell_type": "markdown",
   "metadata": {},
   "source": [
    "### LIST FROM USER"
   ]
  },
  {
   "cell_type": "code",
   "execution_count": 25,
   "metadata": {},
   "outputs": [
    {
     "name": "stdout",
     "output_type": "stream",
     "text": [
      "enter numbers6\n",
      "6\n",
      "6\n",
      "6\n",
      "6\n",
      "6\n",
      "6\n",
      "[6, 6, 6, 6, 6, 6]\n"
     ]
    }
   ],
   "source": [
    "a=int(input(\"enter numbers\"))\n",
    "b=[]\n",
    "for i in range(a):\n",
    "    c=int(input())\n",
    "    b.append(c)\n",
    "print(b)\n"
   ]
  },
  {
   "cell_type": "markdown",
   "metadata": {},
   "source": [
    "### FREQUENCY NUMBER"
   ]
  },
  {
   "cell_type": "code",
   "execution_count": null,
   "metadata": {},
   "outputs": [],
   "source": [
    "a=int(input(\"enter numbers\"))\n",
    "b=[]\n",
    "for i in range(a):\n",
    "    c=int(input())\n",
    "    b.append(c)\n",
    "print(b)\n",
    "def max_frequency(b):\n",
    "    return max(set(b),key=b.count)\n",
    "print(max_frequency(b))\n"
   ]
  },
  {
   "cell_type": "code",
   "execution_count": 59,
   "metadata": {},
   "outputs": [
    {
     "name": "stdout",
     "output_type": "stream",
     "text": [
      "1 --> 4\n",
      "4 --> 4\n",
      "6 --> 4\n",
      "7 --> 4\n"
     ]
    }
   ],
   "source": [
    "l=[1,1,1,1,4,4,4,4,6,6,6,6,7,7,7,7]\n",
    "p={}\n",
    "for i in l:\n",
    "    p[i]=l.count(i)\n",
    "m=max(p.values())\n",
    "for k in p:\n",
    "    if p[k]==m:\n",
    "        print(k,\"-->\",m)\n",
    "        \n",
    "    "
   ]
  },
  {
   "cell_type": "markdown",
   "metadata": {},
   "source": [
    "### FREQUENCY OF CHARACTER"
   ]
  },
  {
   "cell_type": "code",
   "execution_count": null,
   "metadata": {},
   "outputs": [],
   "source": [
    "a=input()\n",
    "b=a.split()\n",
    "d={}\n",
    "for i in b:\n",
    "    d[i]=b.count(i)\n",
    "m=max(d.values())\n",
    "for k in d:\n",
    "    if d[k]==m:\n",
    "        print(k,\"-->\",m)\n"
   ]
  },
  {
   "cell_type": "code",
   "execution_count": null,
   "metadata": {},
   "outputs": [],
   "source": []
  }
 ],
 "metadata": {
  "kernelspec": {
   "display_name": "Python 3",
   "language": "python",
   "name": "python3"
  },
  "language_info": {
   "codemirror_mode": {
    "name": "ipython",
    "version": 3
   },
   "file_extension": ".py",
   "mimetype": "text/x-python",
   "name": "python",
   "nbconvert_exporter": "python",
   "pygments_lexer": "ipython3",
   "version": "3.7.3"
  }
 },
 "nbformat": 4,
 "nbformat_minor": 2
}
