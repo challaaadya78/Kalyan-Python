{
 "cells": [
  {
   "cell_type": "markdown",
   "metadata": {},
   "source": [
    "### NUMBER POLINDROME"
   ]
  },
  {
   "cell_type": "code",
   "execution_count": 22,
   "metadata": {},
   "outputs": [
    {
     "name": "stdout",
     "output_type": "stream",
     "text": [
      "1221\n",
      "1221\n",
      "palindrome\n"
     ]
    },
    {
     "data": {
      "text/plain": [
       "int"
      ]
     },
     "execution_count": 22,
     "metadata": {},
     "output_type": "execute_result"
    }
   ],
   "source": [
    "n=input()\n",
    "r=n[::-1]\n",
    "print(r)\n",
    "if r==n:\n",
    "    print(\"palindrome\")\n",
    "else:\n",
    "    print(\"not polindrome\")\n",
    "r=int(r)\n",
    "type(r)"
   ]
  },
  {
   "cell_type": "markdown",
   "metadata": {},
   "source": [
    "### SPECIAL NUMBER\n"
   ]
  },
  {
   "cell_type": "code",
   "execution_count": 62,
   "metadata": {},
   "outputs": [
    {
     "name": "stdout",
     "output_type": "stream",
     "text": [
      "enter a number   100\n",
      "Its not a Special number\n"
     ]
    }
   ],
   "source": [
    "p=int(input(\"enter a number   \"))\n",
    "if p<9:\n",
    "    print(\"9 below special number does not exists\")\n",
    "else:\n",
    "    cof=(p%10)\n",
    "    rem=(p//10)\n",
    "    sum=cof+rem\n",
    "    pro=cof*rem\n",
    "    res=sum+pro\n",
    "if res==p:\n",
    "    print(\"Its a Special number\")\n",
    "else:\n",
    "    print(\"Its not a Special number\")"
   ]
  },
  {
   "cell_type": "markdown",
   "metadata": {},
   "source": [
    "### PERFECT NUMBER"
   ]
  },
  {
   "cell_type": "code",
   "execution_count": 3,
   "metadata": {},
   "outputs": [
    {
     "name": "stdout",
     "output_type": "stream",
     "text": [
      "1\n",
      "100\n",
      "6\n",
      "28\n"
     ]
    }
   ],
   "source": [
    "lb=int(input())\n",
    "ub=int(input())\n",
    "p=0\n",
    "\n",
    "def factor(n,p):\n",
    "    for i in range(1,n):\n",
    "        if n%i==0:\n",
    "            p=p+i\n",
    "    if p==n:\n",
    "        print(p)\n",
    "for k in range(lb,ub+1):\n",
    "    factor(k,p)"
   ]
  },
  {
   "cell_type": "markdown",
   "metadata": {},
   "source": [
    "### PRIME NUMBER IN A GIVEN RANGE"
   ]
  },
  {
   "cell_type": "code",
   "execution_count": 6,
   "metadata": {},
   "outputs": [
    {
     "name": "stdout",
     "output_type": "stream",
     "text": [
      "1\n",
      "20\n",
      "2\n",
      "3\n",
      "5\n",
      "7\n",
      "11\n",
      "13\n",
      "17\n",
      "19\n"
     ]
    }
   ],
   "source": [
    "\n",
    "lb=int(input())\n",
    "ub=int(input())\n",
    "p=0\n",
    "\n",
    "def factor(n,p):\n",
    "    for i in range(1,n):\n",
    "        if n%i==0:\n",
    "            p=p+i\n",
    "    if p==1:\n",
    "        print(n)\n",
    "for k in range(lb,ub+1):\n",
    "    factor(k,p)\n"
   ]
  },
  {
   "cell_type": "code",
   "execution_count": null,
   "metadata": {},
   "outputs": [],
   "source": []
  }
 ],
 "metadata": {
  "kernelspec": {
   "display_name": "Python 3",
   "language": "python",
   "name": "python3"
  },
  "language_info": {
   "codemirror_mode": {
    "name": "ipython",
    "version": 3
   },
   "file_extension": ".py",
   "mimetype": "text/x-python",
   "name": "python",
   "nbconvert_exporter": "python",
   "pygments_lexer": "ipython3",
   "version": "3.7.3"
  }
 },
 "nbformat": 4,
 "nbformat_minor": 2
}
